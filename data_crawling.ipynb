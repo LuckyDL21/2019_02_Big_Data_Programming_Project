{
 "cells": [
  {
   "cell_type": "markdown",
   "metadata": {},
   "source": [
    "**1. dustfeel 사이트에서 455개의 주소를 beautifulsoup을 통해 따오기**"
   ]
  },
  {
   "cell_type": "code",
   "execution_count": 3,
   "metadata": {},
   "outputs": [],
   "source": [
    "#dustfeel 사이트에서 455개의 주소를 beautifulsoup을 통해 따온다 \n",
    "from bs4 import BeautifulSoup\n",
    "import pandas as pd\n",
    "from urllib.request import urlopen\n",
    "\n",
    "\n",
    "addr_list=[] #주소 저장 리스트\n",
    "for i in range(46):# 455개 정보 가져옴 (한페이지당 10개의 대기정보가 저장되어 있음)\n",
    "\n",
    "    url='https://dustfeel.com/station?p='+str(i+1)\n",
    "    page=urlopen(url)\n",
    "    soup=BeautifulSoup(page,'html.parser')\n",
    "    addr_text=soup.find_all('p','addr')\n",
    "    for j in range(len(addr_text)):\n",
    "        addr_text[j]=addr_text[j].text#주소 문자열만 따옴(10개)\n",
    "\n",
    "    addr_list.extend(addr_text)#주소가 저장된 리스트 \n",
    "    \n",
    "\n",
    "#주소에서 끝에 대기 부분을 전처리 한다. \n",
    "for i in range(len(addr_list)):\n",
    "    if '도시대기' in addr_list[i]:\n",
    "        addr_list[i]=addr_list[i].replace('도시대기','')\n",
    "    elif '도로변대기' in addr_list[i]:\n",
    "        addr_list[i]=addr_list[i].replace('도로변대기','')\n",
    "    elif '옥상' in addr_list[i]:\n",
    "        addr_list[i]=addr_list[i].replace('옥상','')\n",
    "    elif '교외대기' in addr_list[i]:\n",
    "        addr_list[i]=addr_list[i].replace('교외대기','')\n",
    "        "
   ]
  },
  {
   "cell_type": "markdown",
   "metadata": {},
   "source": [
    "**2. selenium에서 google map에 접속에 455개의 주소를 입력하고 경도 위도를 리스트에 저장한다(크롤링하는데 30분 정도 소요됩니다)**"
   ]
  },
  {
   "cell_type": "code",
   "execution_count": 4,
   "metadata": {},
   "outputs": [
    {
     "ename": "ModuleNotFoundError",
     "evalue": "No module named 'selenium'",
     "output_type": "error",
     "traceback": [
      "\u001b[1;31m---------------------------------------------------------------------------\u001b[0m",
      "\u001b[1;31mModuleNotFoundError\u001b[0m                       Traceback (most recent call last)",
      "\u001b[1;32m<ipython-input-4-366ae32e3c93>\u001b[0m in \u001b[0;36m<module>\u001b[1;34m\u001b[0m\n\u001b[1;32m----> 1\u001b[1;33m \u001b[1;32mfrom\u001b[0m \u001b[0mselenium\u001b[0m \u001b[1;32mimport\u001b[0m \u001b[0mwebdriver\u001b[0m\u001b[1;33m\u001b[0m\u001b[1;33m\u001b[0m\u001b[0m\n\u001b[0m\u001b[0;32m      2\u001b[0m \u001b[1;32mfrom\u001b[0m \u001b[0mselenium\u001b[0m\u001b[1;33m.\u001b[0m\u001b[0mwebdriver\u001b[0m\u001b[1;33m.\u001b[0m\u001b[0mcommon\u001b[0m\u001b[1;33m.\u001b[0m\u001b[0mkeys\u001b[0m \u001b[1;32mimport\u001b[0m \u001b[0mKeys\u001b[0m  \u001b[1;31m#내용지우기 위해 필요한 모듈\u001b[0m\u001b[1;33m\u001b[0m\u001b[1;33m\u001b[0m\u001b[0m\n\u001b[0;32m      3\u001b[0m \u001b[1;32mfrom\u001b[0m \u001b[0mtime\u001b[0m \u001b[1;32mimport\u001b[0m \u001b[0msleep\u001b[0m\u001b[1;33m\u001b[0m\u001b[1;33m\u001b[0m\u001b[0m\n\u001b[0;32m      4\u001b[0m \u001b[1;33m\u001b[0m\u001b[0m\n\u001b[0;32m      5\u001b[0m \u001b[1;33m\u001b[0m\u001b[0m\n",
      "\u001b[1;31mModuleNotFoundError\u001b[0m: No module named 'selenium'"
     ]
    }
   ],
   "source": [
    "from selenium import webdriver\n",
    "from selenium.webdriver.common.keys import Keys  #내용지우기 위해 필요한 모듈\n",
    "from time import sleep\n",
    "\n",
    "\n",
    "latitude=[]\n",
    "longitude=[]\n",
    "\n",
    "driver = webdriver.Chrome('../driver/chromedriver')\n",
    "driver.implicitly_wait(3)\n",
    "driver.get(\"https://www.google.co.kr/maps/\")\n",
    "\n",
    "for i in range(len(addr_list)):\n",
    "    select=driver.find_element_by_name('q')\n",
    "    select.send_keys(addr_list[i])\n",
    "    driver.find_element_by_xpath(\"\"\"//*[@id=\"searchbox-searchbutton\"]\"\"\").click()\n",
    "    sleep(2)\n",
    "    a=driver.current_url\n",
    "    local=a.split('@')[1]\n",
    "    latitude.append(local.split(',')[0]) #위도\n",
    "    longitude.append(local.split(',')[1]) #경도\n",
    "    sleep(3)\n",
    "    for j in range(1,len(addr_list[i])+1):\n",
    "        select.send_keys(Keys.BACKSPACE)\n",
    "        #sleep(0.5)\n",
    "    sleep(1)\n",
    "driver.close() "
   ]
  },
  {
   "cell_type": "markdown",
   "metadata": {},
   "source": [
    "**3. 첫 주소만 현재 나의 위치로 저장이 되어, 첫주소만 수정한다**"
   ]
  },
  {
   "cell_type": "code",
   "execution_count": 23,
   "metadata": {},
   "outputs": [],
   "source": [
    "driver = webdriver.Chrome('../driver/chromedriver')\n",
    "driver.implicitly_wait(3)\n",
    "driver.get(\"https://www.google.co.kr/maps/\")\n",
    "select=driver.find_element_by_name('q')\n",
    "select.send_keys(addr_list[0])\n",
    "driver.find_element_by_xpath(\"\"\"//*[@id=\"searchbox-searchbutton\"]\"\"\").click()\n",
    "sleep(5)\n",
    "a=driver.current_url\n",
    "local=a.split('@')[1]\n",
    "latitude[0]=local.split(',')[0] #위도\n",
    "longitude[0]=local.split(',')[1] #경도\n",
    "driver.close()\n"
   ]
  },
  {
   "cell_type": "markdown",
   "metadata": {},
   "source": [
    "**4.dataframe에 저장하기**"
   ]
  },
  {
   "cell_type": "code",
   "execution_count": 24,
   "metadata": {},
   "outputs": [
    {
     "data": {
      "text/html": [
       "<div>\n",
       "<style scoped>\n",
       "    .dataframe tbody tr th:only-of-type {\n",
       "        vertical-align: middle;\n",
       "    }\n",
       "\n",
       "    .dataframe tbody tr th {\n",
       "        vertical-align: top;\n",
       "    }\n",
       "\n",
       "    .dataframe thead th {\n",
       "        text-align: right;\n",
       "    }\n",
       "</style>\n",
       "<table border=\"1\" class=\"dataframe\">\n",
       "  <thead>\n",
       "    <tr style=\"text-align: right;\">\n",
       "      <th></th>\n",
       "      <th>주소</th>\n",
       "      <th>위도</th>\n",
       "      <th>경도</th>\n",
       "    </tr>\n",
       "  </thead>\n",
       "  <tbody>\n",
       "    <tr>\n",
       "      <th>0</th>\n",
       "      <td>경기 양주시 백석읍 꿈나무로 199꿈나무도서관</td>\n",
       "      <td>37.792424</td>\n",
       "      <td>126.9845236</td>\n",
       "    </tr>\n",
       "    <tr>\n",
       "      <th>1</th>\n",
       "      <td>대구 달성군 현풍면 부리 247 (상수도사업본부 달성사업소)(현풍중앙로 144-34...</td>\n",
       "      <td>35.6999534</td>\n",
       "      <td>128.4412756</td>\n",
       "    </tr>\n",
       "    <tr>\n",
       "      <th>2</th>\n",
       "      <td>경기 이천시 설성면 신필리산 88-5(전파연구소 입구)</td>\n",
       "      <td>37.1387735</td>\n",
       "      <td>127.5449728</td>\n",
       "    </tr>\n",
       "    <tr>\n",
       "      <th>3</th>\n",
       "      <td>경기 포천시 삼육사로 2186번길 11-15선단보건지소</td>\n",
       "      <td>37.8533363</td>\n",
       "      <td>127.1570327</td>\n",
       "    </tr>\n",
       "    <tr>\n",
       "      <th>4</th>\n",
       "      <td>충북 음성군 금왕읍 무극로370 (금왕공설운동장내)</td>\n",
       "      <td>36.9627761</td>\n",
       "      <td>127.5755361</td>\n",
       "    </tr>\n",
       "  </tbody>\n",
       "</table>\n",
       "</div>"
      ],
      "text/plain": [
       "                                                  주소          위도           경도\n",
       "0                          경기 양주시 백석읍 꿈나무로 199꿈나무도서관   37.792424  126.9845236\n",
       "1  대구 달성군 현풍면 부리 247 (상수도사업본부 달성사업소)(현풍중앙로 144-34...  35.6999534  128.4412756\n",
       "2                     경기 이천시 설성면 신필리산 88-5(전파연구소 입구)  37.1387735  127.5449728\n",
       "3                     경기 포천시 삼육사로 2186번길 11-15선단보건지소  37.8533363  127.1570327\n",
       "4                       충북 음성군 금왕읍 무극로370 (금왕공설운동장내)  36.9627761  127.5755361"
      ]
     },
     "execution_count": 24,
     "metadata": {},
     "output_type": "execute_result"
    }
   ],
   "source": [
    "addr_all={'주소':addr_list,'위도':latitude,'경도':longitude}\n",
    "df=pd.DataFrame(addr_all)\n",
    "df.head()\n"
   ]
  },
  {
   "cell_type": "code",
   "execution_count": null,
   "metadata": {},
   "outputs": [],
   "source": []
  },
  {
   "cell_type": "code",
   "execution_count": 25,
   "metadata": {},
   "outputs": [],
   "source": [
    "df.to_csv('address.csv',sep=',',encoding='cp949')"
   ]
  },
  {
   "cell_type": "markdown",
   "metadata": {},
   "source": [
    "**5.folium으로 전국 미세먼지 측정소 지도 표현하고 저장하기**"
   ]
  },
  {
   "cell_type": "code",
   "execution_count": 27,
   "metadata": {},
   "outputs": [],
   "source": [
    "import folium\n",
    "\n",
    "map_mw=folium.Map(location=[36.2002,127.054],zoom_start=7) #html의 시작점 \n",
    "\n",
    "\n",
    "for i in range(len(latitude)):\n",
    "    folium.Marker([latitude[i],longitude[i]],pop='**').add_to(map_mw)\n"
   ]
  },
  {
   "cell_type": "code",
   "execution_count": 28,
   "metadata": {},
   "outputs": [],
   "source": [
    "map_osm.save('dust_station.html')"
   ]
  },
  {
   "cell_type": "code",
   "execution_count": null,
   "metadata": {},
   "outputs": [],
   "source": []
  }
 ],
 "metadata": {
  "kernelspec": {
   "display_name": "Python 3",
   "language": "python",
   "name": "python3"
  },
  "language_info": {
   "codemirror_mode": {
    "name": "ipython",
    "version": 3
   },
   "file_extension": ".py",
   "mimetype": "text/x-python",
   "name": "python",
   "nbconvert_exporter": "python",
   "pygments_lexer": "ipython3",
   "version": "3.8.5"
  }
 },
 "nbformat": 4,
 "nbformat_minor": 2
}
